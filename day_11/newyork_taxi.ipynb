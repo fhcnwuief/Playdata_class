{
 "cells": [
  {
   "cell_type": "markdown",
   "id": "11b70301",
   "metadata": {},
   "source": [
    "## 뉴욕 택시 데이터"
   ]
  },
  {
   "cell_type": "markdown",
   "id": "9b7168ae",
   "metadata": {},
   "source": [
    "- 13억 대의 뉴욕 택시에 대한 정보, 파일 -140개"
   ]
  },
  {
   "cell_type": "code",
   "execution_count": 5,
   "id": "74ededd3",
   "metadata": {},
   "outputs": [
    {
     "name": "stdout",
     "output_type": "stream",
     "text": [
      "['../data/python_data\\\\fhv_tripdata_2015-01.csv', '../data/python_data\\\\fhv_tripdata_2015-02.csv', '../data/python_data\\\\fhv_tripdata_2015-03.csv', '../data/python_data\\\\fhv_tripdata_2015-04.csv', '../data/python_data\\\\fhv_tripdata_2015-05.csv']\n"
     ]
    }
   ],
   "source": [
    "import glob\n",
    "import pandas as pd\n",
    "# 비슷한 이름의 파일을 대량으로 한번에 불러옴\n",
    "#glob 라이브러리에 포함된 glob 메서드는 특정한 패턴의 이름을 가진 \n",
    "#파일을 한번에 읽어 들일 수 있습니다\n",
    "nyc_taxi_data = glob.glob('../data/python_data/fhv_*')\n",
    "print(nyc_taxi_data)"
   ]
  },
  {
   "cell_type": "code",
   "execution_count": 6,
   "id": "29b2e3a8",
   "metadata": {},
   "outputs": [],
   "source": [
    "taxi1 = pd.read_csv(nyc_taxi_data[0])\n",
    "taxi2 = pd.read_csv(nyc_taxi_data[1])\n",
    "taxi3 = pd.read_csv(nyc_taxi_data[2])\n",
    "taxi4 = pd.read_csv(nyc_taxi_data[3])\n",
    "taxi5 = pd.read_csv(nyc_taxi_data[4])"
   ]
  },
  {
   "cell_type": "code",
   "execution_count": 7,
   "id": "23cf1889",
   "metadata": {},
   "outputs": [
    {
     "name": "stdout",
     "output_type": "stream",
     "text": [
      "  Dispatching_base_num          Pickup_date  locationID\n",
      "0               B00013  2015-01-01 00:30:00         NaN\n",
      "1               B00013  2015-01-01 01:22:00         NaN\n",
      "  Dispatching_base_num          Pickup_date  locationID\n",
      "0               B00013  2015-02-01 00:00:00         NaN\n",
      "1               B00013  2015-02-01 00:01:00         NaN\n",
      "  Dispatching_base_num          Pickup_date  locationID\n",
      "0               B00029  2015-03-01 00:02:00       213.0\n",
      "1               B00029  2015-03-01 00:03:00        51.0\n",
      "  Dispatching_base_num          Pickup_date  locationID\n",
      "0               B00001  2015-04-01 04:30:00         NaN\n",
      "1               B00001  2015-04-01 06:00:00         NaN\n",
      "  Dispatching_base_num          Pickup_date  locationID\n",
      "0               B00001  2015-05-01 04:30:00         NaN\n",
      "1               B00001  2015-05-01 05:00:00         NaN\n"
     ]
    }
   ],
   "source": [
    "print(taxi1.head(n=2))\n",
    "print(taxi2.head(n=2))\n",
    "print(taxi3.head(n=2))\n",
    "print(taxi4.head(n=2))\n",
    "print(taxi5.head(n=2))"
   ]
  },
  {
   "cell_type": "code",
   "execution_count": 8,
   "id": "6b2a686c",
   "metadata": {},
   "outputs": [
    {
     "name": "stdout",
     "output_type": "stream",
     "text": [
      "(2746033, 3)\n",
      "(3126401, 3)\n",
      "(3281427, 3)\n",
      "(3917789, 3)\n",
      "(4296067, 3)\n"
     ]
    }
   ],
   "source": [
    "print(taxi1.shape)\n",
    "print(taxi2.shape)\n",
    "print(taxi3.shape)\n",
    "print(taxi4.shape)\n",
    "print(taxi5.shape)"
   ]
  },
  {
   "cell_type": "code",
   "execution_count": 9,
   "id": "243fb576",
   "metadata": {},
   "outputs": [
    {
     "data": {
      "text/plain": [
       "(17367717, 3)"
      ]
     },
     "execution_count": 9,
     "metadata": {},
     "output_type": "execute_result"
    }
   ],
   "source": [
    "taxi = pd.concat([taxi1, taxi2, taxi3, taxi4,taxi5])\n",
    "taxi.shape"
   ]
  },
  {
   "cell_type": "code",
   "execution_count": 16,
   "id": "62fd7a0f",
   "metadata": {},
   "outputs": [
    {
     "data": {
      "text/html": [
       "<div>\n",
       "<style scoped>\n",
       "    .dataframe tbody tr th:only-of-type {\n",
       "        vertical-align: middle;\n",
       "    }\n",
       "\n",
       "    .dataframe tbody tr th {\n",
       "        vertical-align: top;\n",
       "    }\n",
       "\n",
       "    .dataframe thead th {\n",
       "        text-align: right;\n",
       "    }\n",
       "</style>\n",
       "<table border=\"1\" class=\"dataframe\">\n",
       "  <thead>\n",
       "    <tr style=\"text-align: right;\">\n",
       "      <th></th>\n",
       "      <th>Dispatching_base_num</th>\n",
       "      <th>Pickup_date</th>\n",
       "      <th>locationID</th>\n",
       "    </tr>\n",
       "  </thead>\n",
       "  <tbody>\n",
       "    <tr>\n",
       "      <th>0</th>\n",
       "      <td>B00013</td>\n",
       "      <td>2015-01-01 00:30:00</td>\n",
       "      <td>NaN</td>\n",
       "    </tr>\n",
       "    <tr>\n",
       "      <th>1</th>\n",
       "      <td>B00013</td>\n",
       "      <td>2015-01-01 01:22:00</td>\n",
       "      <td>NaN</td>\n",
       "    </tr>\n",
       "    <tr>\n",
       "      <th>2</th>\n",
       "      <td>B00013</td>\n",
       "      <td>2015-01-01 01:23:00</td>\n",
       "      <td>NaN</td>\n",
       "    </tr>\n",
       "    <tr>\n",
       "      <th>3</th>\n",
       "      <td>B00013</td>\n",
       "      <td>2015-01-01 01:44:00</td>\n",
       "      <td>NaN</td>\n",
       "    </tr>\n",
       "    <tr>\n",
       "      <th>4</th>\n",
       "      <td>B00013</td>\n",
       "      <td>2015-01-01 02:00:00</td>\n",
       "      <td>NaN</td>\n",
       "    </tr>\n",
       "    <tr>\n",
       "      <th>...</th>\n",
       "      <td>...</td>\n",
       "      <td>...</td>\n",
       "      <td>...</td>\n",
       "    </tr>\n",
       "    <tr>\n",
       "      <th>4296062</th>\n",
       "      <td>B02821</td>\n",
       "      <td>2015-05-31 14:00:00</td>\n",
       "      <td>NaN</td>\n",
       "    </tr>\n",
       "    <tr>\n",
       "      <th>4296063</th>\n",
       "      <td>B02821</td>\n",
       "      <td>2015-05-31 14:32:00</td>\n",
       "      <td>NaN</td>\n",
       "    </tr>\n",
       "    <tr>\n",
       "      <th>4296064</th>\n",
       "      <td>B02821</td>\n",
       "      <td>2015-05-31 14:45:00</td>\n",
       "      <td>NaN</td>\n",
       "    </tr>\n",
       "    <tr>\n",
       "      <th>4296065</th>\n",
       "      <td>B02821</td>\n",
       "      <td>2015-05-31 17:44:00</td>\n",
       "      <td>NaN</td>\n",
       "    </tr>\n",
       "    <tr>\n",
       "      <th>4296066</th>\n",
       "      <td>B02821</td>\n",
       "      <td>2015-05-31 18:13:00</td>\n",
       "      <td>NaN</td>\n",
       "    </tr>\n",
       "  </tbody>\n",
       "</table>\n",
       "<p>17367717 rows × 3 columns</p>\n",
       "</div>"
      ],
      "text/plain": [
       "        Dispatching_base_num          Pickup_date  locationID\n",
       "0                     B00013  2015-01-01 00:30:00         NaN\n",
       "1                     B00013  2015-01-01 01:22:00         NaN\n",
       "2                     B00013  2015-01-01 01:23:00         NaN\n",
       "3                     B00013  2015-01-01 01:44:00         NaN\n",
       "4                     B00013  2015-01-01 02:00:00         NaN\n",
       "...                      ...                  ...         ...\n",
       "4296062               B02821  2015-05-31 14:00:00         NaN\n",
       "4296063               B02821  2015-05-31 14:32:00         NaN\n",
       "4296064               B02821  2015-05-31 14:45:00         NaN\n",
       "4296065               B02821  2015-05-31 17:44:00         NaN\n",
       "4296066               B02821  2015-05-31 18:13:00         NaN\n",
       "\n",
       "[17367717 rows x 3 columns]"
      ]
     },
     "execution_count": 16,
     "metadata": {},
     "output_type": "execute_result"
    }
   ],
   "source": [
    "taxi"
   ]
  },
  {
   "cell_type": "markdown",
   "id": "e691f930",
   "metadata": {},
   "source": [
    "## 반복문으로 데이터 준비하기"
   ]
  },
  {
   "cell_type": "code",
   "execution_count": null,
   "id": "23001a2d",
   "metadata": {},
   "outputs": [],
   "source": []
  },
  {
   "cell_type": "code",
   "execution_count": 11,
   "id": "292ce637",
   "metadata": {
    "scrolled": true
   },
   "outputs": [
    {
     "name": "stdout",
     "output_type": "stream",
     "text": [
      "../data/python_data\\fhv_tripdata_2015-01.csv\n",
      "../data/python_data\\fhv_tripdata_2015-02.csv\n",
      "../data/python_data\\fhv_tripdata_2015-03.csv\n",
      "../data/python_data\\fhv_tripdata_2015-04.csv\n",
      "../data/python_data\\fhv_tripdata_2015-05.csv\n",
      "5\n"
     ]
    }
   ],
   "source": [
    "list_taxi_df = []\n",
    "\n",
    "for csv_filename in nyc_taxi_data:\n",
    "    print(csv_filename)\n",
    "    df = pd.read_csv(csv_filename)\n",
    "    list_taxi_df.append(df)\n",
    "# 길이 확인 필수   \n",
    "print(len(list_taxi_df))"
   ]
  },
  {
   "cell_type": "code",
   "execution_count": 17,
   "id": "08cfe1a2",
   "metadata": {},
   "outputs": [
    {
     "data": {
      "text/plain": [
       "[        Dispatching_base_num          Pickup_date  locationID\n",
       " 0                     B00013  2015-01-01 00:30:00         NaN\n",
       " 1                     B00013  2015-01-01 01:22:00         NaN\n",
       " 2                     B00013  2015-01-01 01:23:00         NaN\n",
       " 3                     B00013  2015-01-01 01:44:00         NaN\n",
       " 4                     B00013  2015-01-01 02:00:00         NaN\n",
       " ...                      ...                  ...         ...\n",
       " 2746028               B02765  2015-01-31 23:59:02       169.0\n",
       " 2746029               B02765  2015-01-31 23:59:07        80.0\n",
       " 2746030               B02765  2015-01-31 23:59:34       186.0\n",
       " 2746031               B02765  2015-01-31 23:59:40       181.0\n",
       " 2746032               B02765  2015-01-31 23:59:48        79.0\n",
       " \n",
       " [2746033 rows x 3 columns],\n",
       "         Dispatching_base_num          Pickup_date  locationID\n",
       " 0                     B00013  2015-02-01 00:00:00         NaN\n",
       " 1                     B00013  2015-02-01 00:01:00         NaN\n",
       " 2                     B00013  2015-02-01 00:21:00         NaN\n",
       " 3                     B00013  2015-02-01 01:00:00         NaN\n",
       " 4                     B00013  2015-02-01 02:10:00         NaN\n",
       " ...                      ...                  ...         ...\n",
       " 3126396               B02765  2015-02-28 23:59:32       230.0\n",
       " 3126397               B02765  2015-02-28 23:59:47       238.0\n",
       " 3126398               B02765  2015-02-28 23:59:48        90.0\n",
       " 3126399               B02765  2015-02-28 23:59:51       141.0\n",
       " 3126400               B02765  2015-02-28 23:59:59        79.0\n",
       " \n",
       " [3126401 rows x 3 columns],\n",
       "         Dispatching_base_num          Pickup_date  locationID\n",
       " 0                     B00029  2015-03-01 00:02:00       213.0\n",
       " 1                     B00029  2015-03-01 00:03:00        51.0\n",
       " 2                     B00029  2015-03-01 00:11:00         3.0\n",
       " 3                     B00029  2015-03-01 00:11:00       259.0\n",
       " 4                     B00029  2015-03-01 00:13:00       174.0\n",
       " ...                      ...                  ...         ...\n",
       " 3281422               B02765  2015-03-31 23:58:00       238.0\n",
       " 3281423               B02765  2015-03-31 23:59:00       132.0\n",
       " 3281424               B02765  2015-03-31 23:59:00        48.0\n",
       " 3281425               B02765  2015-03-31 23:59:00       263.0\n",
       " 3281426               B02765  2015-03-31 23:59:00       138.0\n",
       " \n",
       " [3281427 rows x 3 columns],\n",
       "         Dispatching_base_num          Pickup_date  locationID\n",
       " 0                     B00001  2015-04-01 04:30:00         NaN\n",
       " 1                     B00001  2015-04-01 06:00:00         NaN\n",
       " 2                     B00001  2015-04-01 06:00:00         NaN\n",
       " 3                     B00001  2015-04-01 06:00:00         NaN\n",
       " 4                     B00001  2015-04-01 06:15:00         NaN\n",
       " ...                      ...                  ...         ...\n",
       " 3917784               B02809  2015-04-30 11:57:00         NaN\n",
       " 3917785               B02809  2015-04-30 13:30:00         NaN\n",
       " 3917786               B02809  2015-04-30 14:00:00         NaN\n",
       " 3917787               B02809  2015-04-30 14:00:00         NaN\n",
       " 3917788               B02809  2015-04-30 15:37:00         NaN\n",
       " \n",
       " [3917789 rows x 3 columns],\n",
       "         Dispatching_base_num          Pickup_date  locationID\n",
       " 0                     B00001  2015-05-01 04:30:00         NaN\n",
       " 1                     B00001  2015-05-01 05:00:00         NaN\n",
       " 2                     B00001  2015-05-01 05:05:00         NaN\n",
       " 3                     B00001  2015-05-01 06:15:00         NaN\n",
       " 4                     B00001  2015-05-01 06:15:00         NaN\n",
       " ...                      ...                  ...         ...\n",
       " 4296062               B02821  2015-05-31 14:00:00         NaN\n",
       " 4296063               B02821  2015-05-31 14:32:00         NaN\n",
       " 4296064               B02821  2015-05-31 14:45:00         NaN\n",
       " 4296065               B02821  2015-05-31 17:44:00         NaN\n",
       " 4296066               B02821  2015-05-31 18:13:00         NaN\n",
       " \n",
       " [4296067 rows x 3 columns]]"
      ]
     },
     "execution_count": 17,
     "metadata": {},
     "output_type": "execute_result"
    }
   ],
   "source": [
    "list_taxi_df"
   ]
  },
  {
   "cell_type": "code",
   "execution_count": 12,
   "id": "a092aa20",
   "metadata": {},
   "outputs": [
    {
     "name": "stdout",
     "output_type": "stream",
     "text": [
      "<class 'pandas.core.frame.DataFrame'>\n"
     ]
    }
   ],
   "source": [
    "print(type(list_taxi_df[0]))"
   ]
  },
  {
   "cell_type": "code",
   "execution_count": 13,
   "id": "4dba737c",
   "metadata": {},
   "outputs": [
    {
     "name": "stdout",
     "output_type": "stream",
     "text": [
      "  Dispatching_base_num          Pickup_date  locationID\n",
      "0               B00013  2015-01-01 00:30:00         NaN\n",
      "1               B00013  2015-01-01 01:22:00         NaN\n",
      "2               B00013  2015-01-01 01:23:00         NaN\n",
      "3               B00013  2015-01-01 01:44:00         NaN\n",
      "4               B00013  2015-01-01 02:00:00         NaN\n"
     ]
    }
   ],
   "source": [
    "print(list_taxi_df[0].head())"
   ]
  },
  {
   "cell_type": "code",
   "execution_count": 14,
   "id": "a8fa7502",
   "metadata": {},
   "outputs": [
    {
     "name": "stdout",
     "output_type": "stream",
     "text": [
      "(17367717, 3)\n"
     ]
    }
   ],
   "source": [
    "taxi_loop_concat = pd.concat(list_taxi_df)\n",
    "print(taxi_loop_concat.shape)"
   ]
  },
  {
   "cell_type": "code",
   "execution_count": 15,
   "id": "78e96ea8",
   "metadata": {},
   "outputs": [
    {
     "name": "stdout",
     "output_type": "stream",
     "text": [
      "True\n"
     ]
    }
   ],
   "source": [
    "print(taxi.equals(taxi_loop_concat))"
   ]
  },
  {
   "cell_type": "code",
   "execution_count": null,
   "id": "d384e759",
   "metadata": {},
   "outputs": [],
   "source": []
  }
 ],
 "metadata": {
  "kernelspec": {
   "display_name": "Python 3 (ipykernel)",
   "language": "python",
   "name": "python3"
  },
  "language_info": {
   "codemirror_mode": {
    "name": "ipython",
    "version": 3
   },
   "file_extension": ".py",
   "mimetype": "text/x-python",
   "name": "python",
   "nbconvert_exporter": "python",
   "pygments_lexer": "ipython3",
   "version": "3.10.9"
  }
 },
 "nbformat": 4,
 "nbformat_minor": 5
}
