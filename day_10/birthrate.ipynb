{
 "cells": [
  {
   "cell_type": "markdown",
   "id": "ffb33599",
   "metadata": {},
   "source": [
    "#### names 폴더에 있는 데이터\n",
    "\n",
    "\n",
    "- 2000~2009년 출생한 남여 파일을 읽어서 concat\n",
    "- 출생한 전체 남녀 합\n",
    "- 남녀 출생 추이 그래프"
   ]
  },
  {
   "cell_type": "code",
   "execution_count": 23,
   "id": "6cc1b334",
   "metadata": {},
   "outputs": [],
   "source": [
    "import pandas as pd\n",
    "import matplotlib.pyplot as plt\n",
    "import numpy as np\n",
    "import seaborn as sns"
   ]
  },
  {
   "cell_type": "code",
   "execution_count": 2,
   "id": "81ea3f6f",
   "metadata": {},
   "outputs": [
    {
     "name": "stdout",
     "output_type": "stream",
     "text": [
      "['../data/python_data/names\\\\yob2000.txt', '../data/python_data/names\\\\yob2001.txt', '../data/python_data/names\\\\yob2002.txt', '../data/python_data/names\\\\yob2003.txt', '../data/python_data/names\\\\yob2004.txt', '../data/python_data/names\\\\yob2005.txt', '../data/python_data/names\\\\yob2006.txt', '../data/python_data/names\\\\yob2007.txt', '../data/python_data/names\\\\yob2008.txt', '../data/python_data/names\\\\yob2009.txt']\n"
     ]
    }
   ],
   "source": [
    "import glob\n",
    "import pandas as pd\n",
    "# 비슷한 이름의 파일을 대량으로 한번에 불러옴\n",
    "#glob 라이브러리에 포함된 glob 메서드는 특정한 패턴의 이름을 가진 \n",
    "#파일을 한번에 읽어 들일 수 있습니다\n",
    "file = glob.glob('../data/python_data/names/yob200*')\n",
    "print(file)"
   ]
  },
  {
   "cell_type": "code",
   "execution_count": 29,
   "id": "5ae8e910",
   "metadata": {},
   "outputs": [
    {
     "name": "stdout",
     "output_type": "stream",
     "text": [
      "../data/python_data/names\\yob2000.txt\n",
      "../data/python_data/names\\yob2001.txt\n",
      "../data/python_data/names\\yob2002.txt\n",
      "../data/python_data/names\\yob2003.txt\n",
      "../data/python_data/names\\yob2004.txt\n",
      "../data/python_data/names\\yob2005.txt\n",
      "../data/python_data/names\\yob2006.txt\n",
      "../data/python_data/names\\yob2007.txt\n",
      "../data/python_data/names\\yob2008.txt\n",
      "../data/python_data/names\\yob2009.txt\n",
      "10\n"
     ]
    }
   ],
   "source": [
    "birthfile =[]\n",
    "\n",
    "for csv_filename in file:\n",
    "    print(csv_filename)\n",
    "    header = ['name','sex','number']\n",
    "    df = pd.read_csv(csv_filename,names = header,header = None)\n",
    "    birthfile.append(df)\n",
    "    \n",
    "print(len(birthfile))"
   ]
  },
  {
   "cell_type": "code",
   "execution_count": 30,
   "id": "21695fd0",
   "metadata": {},
   "outputs": [
    {
     "data": {
      "text/plain": [
       "(29772, 3)"
      ]
     },
     "execution_count": 30,
     "metadata": {},
     "output_type": "execute_result"
    }
   ],
   "source": [
    "birthfile[0].shape"
   ]
  },
  {
   "cell_type": "code",
   "execution_count": 31,
   "id": "89491084",
   "metadata": {},
   "outputs": [
    {
     "name": "stdout",
     "output_type": "stream",
     "text": [
      "            name sex  number\n",
      "0          Emily   F   25956\n",
      "1         Hannah   F   23082\n",
      "2        Madison   F   19968\n",
      "3         Ashley   F   17997\n",
      "4          Sarah   F   17702\n",
      "...          ...  ..     ...\n",
      "34704  Zyquarius   M       5\n",
      "34705      Zyran   M       5\n",
      "34706    Zyreion   M       5\n",
      "34707     Zyrian   M       5\n",
      "34708     Zyvion   M       5\n",
      "\n",
      "[325229 rows x 3 columns]\n"
     ]
    }
   ],
   "source": [
    "birth_loop_concat = pd.concat(birthfile)\n",
    "print(birth_loop_concat)"
   ]
  },
  {
   "cell_type": "code",
   "execution_count": 32,
   "id": "2fe4e5eb",
   "metadata": {},
   "outputs": [
    {
     "name": "stdout",
     "output_type": "stream",
     "text": [
      "F    191420\n",
      "M    133809\n",
      "Name: sex, dtype: int64\n"
     ]
    }
   ],
   "source": [
    "counts = birth_loop_concat.sex.value_counts(dropna=False)\n",
    "print(counts)"
   ]
  },
  {
   "cell_type": "code",
   "execution_count": 11,
   "id": "16e1aa71",
   "metadata": {},
   "outputs": [
    {
     "data": {
      "image/png": "[encoded data removed]",
      "text/plain": [
       "<Figure size 640x480 with 1 Axes>"
      ]
     },
     "metadata": {},
     "output_type": "display_data"
    }
   ],
   "source": [
    "counts.plot.pie(explode=[0,0],autopct = '%1.1f%%',startangle=90)\n",
    "plt.show()"
   ]
  },
  {
   "cell_type": "code",
   "execution_count": 33,
   "id": "cb3efb1b",
   "metadata": {},
   "outputs": [
    {
     "name": "stdout",
     "output_type": "stream",
     "text": [
      "../data/python_data/names\\yob2000.txt\n",
      "../data/python_data/names\\yob2001.txt\n",
      "../data/python_data/names\\yob2002.txt\n",
      "../data/python_data/names\\yob2003.txt\n",
      "../data/python_data/names\\yob2004.txt\n",
      "../data/python_data/names\\yob2005.txt\n",
      "../data/python_data/names\\yob2006.txt\n",
      "../data/python_data/names\\yob2007.txt\n",
      "../data/python_data/names\\yob2008.txt\n",
      "../data/python_data/names\\yob2009.txt\n",
      "10\n"
     ]
    }
   ],
   "source": [
    "birthfile =[]\n",
    "year = 2000\n",
    "\n",
    "for csv_filename in file:\n",
    "    print(csv_filename)\n",
    "    header = ['name','sex','number','year']\n",
    "    df = pd.read_csv(csv_filename,names = header,header = None)\n",
    "    df['year']=year\n",
    "    year += 1\n",
    "    birthfile.append(df)\n",
    "    \n",
    "print(len(birthfile))"
   ]
  },
  {
   "cell_type": "code",
   "execution_count": 34,
   "id": "1a5160a9",
   "metadata": {},
   "outputs": [
    {
     "data": {
      "text/html": [
       "<div>\n",
       "<style scoped>\n",
       "    .dataframe tbody tr th:only-of-type {\n",
       "        vertical-align: middle;\n",
       "    }\n",
       "\n",
       "    .dataframe tbody tr th {\n",
       "        vertical-align: top;\n",
       "    }\n",
       "\n",
       "    .dataframe thead th {\n",
       "        text-align: right;\n",
       "    }\n",
       "</style>\n",
       "<table border=\"1\" class=\"dataframe\">\n",
       "  <thead>\n",
       "    <tr style=\"text-align: right;\">\n",
       "      <th></th>\n",
       "      <th>name</th>\n",
       "      <th>sex</th>\n",
       "      <th>number</th>\n",
       "      <th>year</th>\n",
       "    </tr>\n",
       "  </thead>\n",
       "  <tbody>\n",
       "    <tr>\n",
       "      <th>0</th>\n",
       "      <td>Emily</td>\n",
       "      <td>F</td>\n",
       "      <td>25691</td>\n",
       "      <td>2003</td>\n",
       "    </tr>\n",
       "    <tr>\n",
       "      <th>1</th>\n",
       "      <td>Emma</td>\n",
       "      <td>F</td>\n",
       "      <td>22706</td>\n",
       "      <td>2003</td>\n",
       "    </tr>\n",
       "    <tr>\n",
       "      <th>2</th>\n",
       "      <td>Madison</td>\n",
       "      <td>F</td>\n",
       "      <td>20199</td>\n",
       "      <td>2003</td>\n",
       "    </tr>\n",
       "    <tr>\n",
       "      <th>3</th>\n",
       "      <td>Hannah</td>\n",
       "      <td>F</td>\n",
       "      <td>17637</td>\n",
       "      <td>2003</td>\n",
       "    </tr>\n",
       "    <tr>\n",
       "      <th>4</th>\n",
       "      <td>Olivia</td>\n",
       "      <td>F</td>\n",
       "      <td>16148</td>\n",
       "      <td>2003</td>\n",
       "    </tr>\n",
       "    <tr>\n",
       "      <th>...</th>\n",
       "      <td>...</td>\n",
       "      <td>...</td>\n",
       "      <td>...</td>\n",
       "      <td>...</td>\n",
       "    </tr>\n",
       "    <tr>\n",
       "      <th>31180</th>\n",
       "      <td>Zorion</td>\n",
       "      <td>M</td>\n",
       "      <td>5</td>\n",
       "      <td>2003</td>\n",
       "    </tr>\n",
       "    <tr>\n",
       "      <th>31181</th>\n",
       "      <td>Zxavian</td>\n",
       "      <td>M</td>\n",
       "      <td>5</td>\n",
       "      <td>2003</td>\n",
       "    </tr>\n",
       "    <tr>\n",
       "      <th>31182</th>\n",
       "      <td>Zyad</td>\n",
       "      <td>M</td>\n",
       "      <td>5</td>\n",
       "      <td>2003</td>\n",
       "    </tr>\n",
       "    <tr>\n",
       "      <th>31183</th>\n",
       "      <td>Zykeem</td>\n",
       "      <td>M</td>\n",
       "      <td>5</td>\n",
       "      <td>2003</td>\n",
       "    </tr>\n",
       "    <tr>\n",
       "      <th>31184</th>\n",
       "      <td>Zysean</td>\n",
       "      <td>M</td>\n",
       "      <td>5</td>\n",
       "      <td>2003</td>\n",
       "    </tr>\n",
       "  </tbody>\n",
       "</table>\n",
       "<p>31185 rows × 4 columns</p>\n",
       "</div>"
      ],
      "text/plain": [
       "          name sex  number  year\n",
       "0        Emily   F   25691  2003\n",
       "1         Emma   F   22706  2003\n",
       "2      Madison   F   20199  2003\n",
       "3       Hannah   F   17637  2003\n",
       "4       Olivia   F   16148  2003\n",
       "...        ...  ..     ...   ...\n",
       "31180   Zorion   M       5  2003\n",
       "31181  Zxavian   M       5  2003\n",
       "31182     Zyad   M       5  2003\n",
       "31183   Zykeem   M       5  2003\n",
       "31184   Zysean   M       5  2003\n",
       "\n",
       "[31185 rows x 4 columns]"
      ]
     },
     "execution_count": 34,
     "metadata": {},
     "output_type": "execute_result"
    }
   ],
   "source": [
    "birthfile[3]"
   ]
  },
  {
   "cell_type": "code",
   "execution_count": 35,
   "id": "1808acdc",
   "metadata": {},
   "outputs": [
    {
     "name": "stdout",
     "output_type": "stream",
     "text": [
      "            name sex  number  year\n",
      "0          Emily   F   25956  2000\n",
      "1         Hannah   F   23082  2000\n",
      "2        Madison   F   19968  2000\n",
      "3         Ashley   F   17997  2000\n",
      "4          Sarah   F   17702  2000\n",
      "...          ...  ..     ...   ...\n",
      "34704  Zyquarius   M       5  2009\n",
      "34705      Zyran   M       5  2009\n",
      "34706    Zyreion   M       5  2009\n",
      "34707     Zyrian   M       5  2009\n",
      "34708     Zyvion   M       5  2009\n",
      "\n",
      "[325229 rows x 4 columns]\n"
     ]
    }
   ],
   "source": [
    "birth_loop_concat = pd.concat(birthfile)\n",
    "print(birth_loop_concat)"
   ]
  },
  {
   "cell_type": "code",
   "execution_count": 36,
   "id": "da843f7a",
   "metadata": {},
   "outputs": [
    {
     "name": "stdout",
     "output_type": "stream",
     "text": [
      "2008    35079\n",
      "2007    34961\n",
      "2009    34709\n",
      "2006    34088\n",
      "2005    32549\n",
      "2004    32048\n",
      "2003    31185\n",
      "2002    30564\n",
      "2001    30274\n",
      "2000    29772\n",
      "Name: year, dtype: int64\n"
     ]
    }
   ],
   "source": [
    "counts = birth_loop_concat.year.value_counts(dropna=False)\n",
    "print(counts)"
   ]
  },
  {
   "cell_type": "code",
   "execution_count": 37,
   "id": "ed1a4834",
   "metadata": {},
   "outputs": [
    {
     "data": {
      "image/png": "[encoded data removed]",
      "text/plain": [
       "<Figure size 640x480 with 1 Axes>"
      ]
     },
     "metadata": {},
     "output_type": "display_data"
    }
   ],
   "source": [
    "ax = sns.countplot(x='year',hue = 'sex',data = birth_loop_concat)"
   ]
  },
  {
   "cell_type": "code",
   "execution_count": null,
   "id": "5270ad56",
   "metadata": {},
   "outputs": [],
   "source": []
  }
 ],
 "metadata": {
  "kernelspec": {
   "display_name": "Python 3 (ipykernel)",
   "language": "python",
   "name": "python3"
  },
  "language_info": {
   "codemirror_mode": {
    "name": "ipython",
    "version": 3
   },
   "file_extension": ".py",
   "mimetype": "text/x-python",
   "name": "python",
   "nbconvert_exporter": "python",
   "pygments_lexer": "ipython3",
   "version": "3.10.9"
  }
 },
 "nbformat": 4,
 "nbformat_minor": 5
}
