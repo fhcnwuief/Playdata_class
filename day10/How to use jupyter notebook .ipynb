{
 "cells": [
  {
   "cell_type": "code",
   "execution_count": 1,
   "id": "69bfdf77",
   "metadata": {},
   "outputs": [
    {
     "data": {
      "text/plain": [
       "13"
      ]
     },
     "execution_count": 1,
     "metadata": {},
     "output_type": "execute_result"
    }
   ],
   "source": [
    "3+10\n",
    "#실행 : shift + enter"
   ]
  },
  {
   "cell_type": "code",
   "execution_count": 2,
   "id": "59700a88",
   "metadata": {},
   "outputs": [
    {
     "name": "stdout",
     "output_type": "stream",
     "text": [
      "Hello\n"
     ]
    }
   ],
   "source": [
    "print(\"Hello\")"
   ]
  },
  {
   "cell_type": "markdown",
   "id": "4587e522",
   "metadata": {},
   "source": [
    "## 주피터 노트북\n",
    "#### 파이썬 코드를 쉽게 쓰고 확인하고 이를 쉽게 문서화 하고 싶은 경우 사용\n",
    "#### Markdown 문서\n",
    "* 코드를 블럭별로 실행한 결과를 저장하면 다시 문서를 불러왔을 대 그 결과를 재실행하지 않아도 볼 수 있음\n",
    "* 데이터를 핸들링하는 과정과 결과를 볼 수 있어 개발환경을 구축하지 않는 사람도 코드를 볼 수 있음"
   ]
  },
  {
   "cell_type": "markdown",
   "id": "77908827",
   "metadata": {},
   "source": [
    "# 큰 제목 텟트\n",
    "## 중간 제목 테스트\n",
    "### 작은 제목 테스트\n",
    "* 번호 없는 목록\n",
    "    * 탭을 입력하고 *를 입력하면 들여쓰기\n",
    "    * 번호 없는 목록\n",
    "   "
   ]
  },
  {
   "cell_type": "markdown",
   "id": "0880a2ee",
   "metadata": {},
   "source": [
    "### 굵은 글씨, 기울인 글씨, 굵은 상태에서 기울인 글씨\n",
    "*기울인 글씨*와 **굵은 글씨**와 ***굵게 기울인 글씨***"
   ]
  },
  {
   "cell_type": "markdown",
   "id": "874692d7",
   "metadata": {},
   "source": [
    "### 주요 단축키\n",
    "* shift + enter : 액티브 셀을 실행하고 아래 셀을 선택\n",
    "* ctrl + enter : 액티브 셀을 실행\n",
    "* alt + enter : 액티브 셀을 실행하고 아래 셀을 하나 생성\n",
    "* shift + m : 선택 셀과 아래 셀을 합침\n",
    "* shift + ctrl + - : 커서 위치에서 셀을 둘로 나눔\n",
    "* dd : 선택 셀 삭제\n",
    "* a : 위로 셀 추가\n",
    "* b : 아래로 셀 추가\n",
    "* m : Markdown으로 변경\n",
    "* y : code로 변경"
   ]
  },
  {
   "cell_type": "code",
   "execution_count": 3,
   "id": "85f3a6ac",
   "metadata": {},
   "outputs": [
    {
     "name": "stdout",
     "output_type": "stream",
     "text": [
      "Hello World\n",
      "Hello World\n"
     ]
    }
   ],
   "source": [
    "print(\"Hello World\")\n",
    "print(\"Hello World\")"
   ]
  },
  {
   "cell_type": "code",
   "execution_count": null,
   "id": "60be9af8",
   "metadata": {},
   "outputs": [],
   "source": []
  }
 ],
 "metadata": {
  "kernelspec": {
   "display_name": "Python 3 (ipykernel)",
   "language": "python",
   "name": "python3"
  },
  "language_info": {
   "codemirror_mode": {
    "name": "ipython",
    "version": 3
   },
   "file_extension": ".py",
   "mimetype": "text/x-python",
   "name": "python",
   "nbconvert_exporter": "python",
   "pygments_lexer": "ipython3",
   "version": "3.10.9"
  }
 },
 "nbformat": 4,
 "nbformat_minor": 5
}
