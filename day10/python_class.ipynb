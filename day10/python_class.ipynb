{
 "cells": [
  {
   "cell_type": "markdown",
   "id": "2d526ab2",
   "metadata": {},
   "source": [
    "#### 클래스\n",
    "반복되는 변수나 메서드(함수)를 미리 정해 놓은 틀(설계도)\n",
    "\n",
    "result = 0\n",
    "\n",
    "def add(num):\n",
    "    global result -> 이전에 게산된 결과값 유지를 위해 전역변수 사용\n",
    "    result += num\n",
    "    return result\n",
    "    \n",
    "-> add 함수는 입력 인수 num을 받으면 이전에 계산된 결과값에 더한 후 출력하는 함수\n",
    "\n",
    "result1= 0\n",
    "result2= 0\n",
    "\n",
    "#### 한 프로그램에서 두 개의 계산기가 필요하다면 -> 함수를 각각 따로 만든다\n",
    "def add1(num):\n",
    "    global result1\n",
    "    result1 += num\n",
    "    return result1\n",
    "    \n",
    "def add2(num):\n",
    "    global result2\n",
    "    result2 += num\n",
    "    return result\n",
    "-> add1의 결과값이 add2에 아무런 영향을 끼치지 않는다\n",
    "-> 만약 계산기가 3개 5개 10개...필요하다면? 전역변수와 함수를 추가한다??\n",
    "\n",
    "\n",
    "반복되는 변수 : result\n",
    "매서드(함수) : add\n"
   ]
  },
  {
   "cell_type": "markdown",
   "id": "110c8e70",
   "metadata": {},
   "source": [
    "class 클래스명 :\n",
    "        #이 부분에 관련 코드 구현\n",
    "       \n",
    "클래스 쓰는 방법\n",
    "1. class 입력하고\n",
    "2. 대문자로 시작하는 클래스의 이름 만들기\n",
    "3. 함수 만들기"
   ]
  },
  {
   "cell_type": "code",
   "execution_count": 6,
   "id": "25016586",
   "metadata": {
    "scrolled": true
   },
   "outputs": [
    {
     "name": "stdout",
     "output_type": "stream",
     "text": [
      "3\n",
      "4\n"
     ]
    }
   ],
   "source": [
    "class Calculator:\n",
    "    def __init__(self):\n",
    "        self.result = 0\n",
    "    \n",
    "    def add(self,num):\n",
    "        self.result += num\n",
    "        return self.result\n",
    "\n",
    "    \n",
    "cal1 = Calculator()    \n",
    "cal2 = Calculator()\n",
    "\n",
    "print(cal1.add(3))\n",
    "print(cal2.add(4))"
   ]
  },
  {
   "cell_type": "markdown",
   "id": "14650b45",
   "metadata": {},
   "source": [
    "-> 클래스를 이용하면 계산기의 개수가 늘어나더라도 인스턴스를 생성하기만 하면 되기 때문에 함수를 사용하는 경우와 달리 매우 간단"
   ]
  },
  {
   "cell_type": "markdown",
   "id": "8c790b87",
   "metadata": {},
   "source": [
    "### 클래스와 객체\n",
    "#### 클래스\n",
    "- 똑같은 무엇인가를 계속해서 만들어 낼 수 있는 설계 도면\n",
    "- 과자 틀\n",
    "- 잘 만들어진 틀이 있다면 새로운 종류의 다양한 과자를 만들 수 있음\n",
    "#### 객체(object)\n",
    "- 클래스로 만든 피조물\n",
    "- 과자 틀을 이용해 만든 과자"
   ]
  },
  {
   "cell_type": "markdown",
   "id": "30dbce36",
   "metadata": {},
   "source": [
    "아무 기능도 없는 껍질뿐인 클래스도 객체 생성 가능"
   ]
  },
  {
   "cell_type": "code",
   "execution_count": 7,
   "id": "e700941c",
   "metadata": {},
   "outputs": [],
   "source": [
    "class Cookie:\n",
    "    pass"
   ]
  },
  {
   "cell_type": "markdown",
   "id": "1ae72808",
   "metadata": {},
   "source": [
    "a=Cookie()\n",
    "\n",
    "a는 객체\n",
    "a객체는 Cookie의 인스턴스이다(관계)"
   ]
  },
  {
   "cell_type": "code",
   "execution_count": null,
   "id": "91ba8eed",
   "metadata": {},
   "outputs": [],
   "source": []
  },
  {
   "cell_type": "markdown",
   "id": "bb97f131",
   "metadata": {},
   "source": [
    "### 생성자의 개념\n",
    "- 인스턴스를 생성하면서 필드값을 초기화하는 함수\n",
    "#### 생성자의 기본\n",
    "- 기본 형태 : \\__init__()"
   ]
  },
  {
   "cell_type": "code",
   "execution_count": 8,
   "id": "817153c9",
   "metadata": {},
   "outputs": [
    {
     "ename": "SyntaxError",
     "evalue": "incomplete input (3926411894.py, line 3)",
     "output_type": "error",
     "traceback": [
      "\u001b[1;36m  Cell \u001b[1;32mIn[8], line 3\u001b[1;36m\u001b[0m\n\u001b[1;33m    # 이 부분에 초기화할 코드 입력\u001b[0m\n\u001b[1;37m                      ^\u001b[0m\n\u001b[1;31mSyntaxError\u001b[0m\u001b[1;31m:\u001b[0m incomplete input\n"
     ]
    }
   ],
   "source": [
    "class 클래스명:\n",
    "    def __init__(self):\n",
    "        # 이 부분에 초기화할 코드 입력"
   ]
  },
  {
   "cell_type": "markdown",
   "id": "f172de3c",
   "metadata": {},
   "source": [
    "- 클래스 안에 구현된 함수를 메서드 라 부른다\n",
    "- setdata 메서드의 입력 인수는 self,first, second라는 3개의 입력값을 받는다\n",
    "- set 메서드의 첫 번째 인수에는 자동으로 a라는 인스턴드가 입력으로 들어가게 한다"
   ]
  },
  {
   "cell_type": "code",
   "execution_count": 10,
   "id": "c499b5c4",
   "metadata": {},
   "outputs": [],
   "source": [
    "class FourCal:\n",
    "    #self = 전달된 객체\n",
    "    def setdata(self,first,second):\n",
    "        self.first = first\n",
    "        self.second = second\n",
    "        \n",
    "a = FourCal()\n",
    "a.setdata(3,4)"
   ]
  },
  {
   "cell_type": "code",
   "execution_count": 12,
   "id": "0570bef0",
   "metadata": {},
   "outputs": [
    {
     "name": "stdout",
     "output_type": "stream",
     "text": [
      "7\n",
      "3\n",
      "4\n"
     ]
    }
   ],
   "source": [
    "class FourCal:\n",
    "    #self = 전달된 객체\n",
    "    def setdata(self,first,second):\n",
    "        self.first = first\n",
    "        self.second = second\n",
    "    # 즉, add메서드의 매개변수는 self, 반환값은 result\n",
    "    def add(self):\n",
    "        result = self.first + self.second\n",
    "        return result\n",
    "        \n",
    "a = FourCal()\n",
    "a.setdata(3,4)\n",
    "print(a.add())\n",
    "print(a.first)\n",
    "print(a.second)"
   ]
  },
  {
   "cell_type": "code",
   "execution_count": 13,
   "id": "9c56a707",
   "metadata": {},
   "outputs": [
    {
     "name": "stdout",
     "output_type": "stream",
     "text": [
      "7\n",
      "-1\n",
      "12\n",
      "0.75\n",
      "3\n",
      "4\n"
     ]
    }
   ],
   "source": [
    "class FourCal:\n",
    "    #self = 전달된 객체\n",
    "    def setdata(self,first,second):\n",
    "        self.first = first\n",
    "        self.second = second\n",
    "    # 즉, add메서드의 매개변수는 self, 반환값은 result\n",
    "    def add(self):\n",
    "        result = self.first + self.second\n",
    "        return result\n",
    "    def sub(self):\n",
    "        result = self.first - self.second\n",
    "        return result\n",
    "    def mul(self):\n",
    "        result = self.first * self.second\n",
    "        return result\n",
    "    def div(self):\n",
    "        result = self.first / self.second\n",
    "        return result\n",
    "a = FourCal()\n",
    "a.setdata(3,4)\n",
    "b.setdata(5,8)\n",
    "print(a.add())\n",
    "print(a.sub())\n",
    "print(a.mul())\n",
    "print(a.div())\n",
    "print(a.first)\n",
    "print(a.second)"
   ]
  },
  {
   "cell_type": "markdown",
   "id": "f6e1a84a",
   "metadata": {},
   "source": [
    "### 생성자(Constructor)\n",
    "- 인스턴스를 생성하면서 필드값을 초기화시키는 함수"
   ]
  },
  {
   "cell_type": "code",
   "execution_count": 21,
   "id": "61521d01",
   "metadata": {},
   "outputs": [
    {
     "data": {
      "text/plain": [
       "6"
      ]
     },
     "execution_count": 21,
     "metadata": {},
     "output_type": "execute_result"
    }
   ],
   "source": [
    "class FourCal:\n",
    "    def __init__(self,first,second):\n",
    "        self.first = first\n",
    "        self.second = second\n",
    "    #self = 전달된 객체\n",
    "    def setdata(self,first,second):\n",
    "        self.first = first\n",
    "        self.second = second\n",
    "    # 즉, add메서드의 매개변수는 self, 반환값은 result\n",
    "    def add(self):\n",
    "        result = self.first + self.second\n",
    "        return result\n",
    "    def sub(self):\n",
    "        result = self.first - self.second\n",
    "        return result\n",
    "    def mul(self):\n",
    "        result = self.first * self.second\n",
    "        return result\n",
    "    def div(self):\n",
    "        result = self.first / self.second\n",
    "        return result\n",
    "    \n",
    "c = FourCal(4,2)\n",
    "c.add()"
   ]
  },
  {
   "cell_type": "markdown",
   "id": "184d1406",
   "metadata": {},
   "source": [
    "### 클래스의 상속(inhreitance)\n",
    "- 어떤 클래스를 만들 때 다른 클래스의 기능을 물려받을 수 있게 만드는 것"
   ]
  },
  {
   "cell_type": "code",
   "execution_count": 22,
   "id": "e3e54b36",
   "metadata": {},
   "outputs": [],
   "source": [
    "class MorFourCal(FourCal):\n",
    "    pass"
   ]
  },
  {
   "cell_type": "code",
   "execution_count": 23,
   "id": "f5ff1e64",
   "metadata": {},
   "outputs": [
    {
     "data": {
      "text/plain": [
       "6"
      ]
     },
     "execution_count": 23,
     "metadata": {},
     "output_type": "execute_result"
    }
   ],
   "source": [
    "a = MorFourCal(4,2)\n",
    "a.add()"
   ]
  },
  {
   "cell_type": "code",
   "execution_count": 24,
   "id": "d129479d",
   "metadata": {},
   "outputs": [],
   "source": [
    "class MoreFourCal(FourCal):\n",
    "    def pow(self):\n",
    "        result = self.first ** self.second\n",
    "        return result"
   ]
  },
  {
   "cell_type": "code",
   "execution_count": 25,
   "id": "b53d05e6",
   "metadata": {},
   "outputs": [
    {
     "data": {
      "text/plain": [
       "16"
      ]
     },
     "execution_count": 25,
     "metadata": {},
     "output_type": "execute_result"
    }
   ],
   "source": [
    "a = MoreFourCal(4,2)\n",
    "a.pow()"
   ]
  },
  {
   "cell_type": "markdown",
   "id": "20e890f3",
   "metadata": {},
   "source": [
    "### 메서드 오버라이딩\n",
    "- FourCal 클래스의 객체a 에 4와 0을 설정하고 div를 호출하면 오류 발생\n",
    "- 오류가 아닌 0을 돌려주도록 하고 싶으면\n",
    "- FourCal 클래스를 상속하는 SafeFourCal 클래스를 만듬\n",
    "\n",
    "-  상속받을 대상인 클래스의 메서드와 이름은 같지만 그 행동을 다르게 해야 할 때 메서드 이름을 동일하게 다시 구현(메서드 재정의)"
   ]
  },
  {
   "cell_type": "code",
   "execution_count": 26,
   "id": "7a572216",
   "metadata": {},
   "outputs": [
    {
     "data": {
      "text/plain": [
       "0"
      ]
     },
     "execution_count": 26,
     "metadata": {},
     "output_type": "execute_result"
    }
   ],
   "source": [
    "class SafeFourCal(FourCal):\n",
    "    def div(self):\n",
    "        if self.second ==0:\n",
    "            return 0\n",
    "        else:\n",
    "            return self.first / self.second\n",
    "\n",
    "a = SafeFourCal(4,0)\n",
    "a.div()"
   ]
  },
  {
   "cell_type": "code",
   "execution_count": 28,
   "id": "334dc8c1",
   "metadata": {},
   "outputs": [],
   "source": [
    "# 클래스 선언\n",
    "class Car:\n",
    "    color = \"\"\n",
    "    speed = 0\n",
    "    \n",
    "    def upSpeed(self,value):\n",
    "        self.speed += value\n",
    "        \n",
    "    def downSpeed(self,value):\n",
    "        self.speed -= value"
   ]
  },
  {
   "cell_type": "code",
   "execution_count": 31,
   "id": "940fdac2",
   "metadata": {},
   "outputs": [
    {
     "name": "stdout",
     "output_type": "stream",
     "text": [
      "자동차1의 색상은 빨강이며, 현재 속도는 30km\n",
      "자동차2의 색상은 파랑이며, 현재 속도는 60km\n",
      "자동차3의 색상은 노랑이며, 현재 속도는 0km\n"
     ]
    }
   ],
   "source": [
    "# 메인 코드 부분\n",
    "\n",
    "myCar1 = Car()\n",
    "myCar1.color = \"빨강\"\n",
    "myCar1.speed = 0\n",
    "\n",
    "myCar2 = Car()\n",
    "myCar2.color = \"파랑\"\n",
    "myCar2.speed = 0\n",
    "\n",
    "myCar3 = Car()\n",
    "myCar3.color = \"노랑\"\n",
    "myCar3.speed = 0\n",
    "\n",
    "myCar1.upSpeed(30)\n",
    "print(f\"자동차1의 색상은 {myCar1.color}이며, 현재 속도는 {myCar1.speed}km\")\n",
    "myCar2.upSpeed(60)\n",
    "print(f\"자동차2의 색상은 {myCar2.color}이며, 현재 속도는 {myCar2.speed}km\")\n",
    "myCar3.upSpeed(0)\n",
    "print(f\"자동차3의 색상은 {myCar3.color}이며, 현재 속도는 {myCar3.speed}km\")"
   ]
  },
  {
   "cell_type": "code",
   "execution_count": 36,
   "id": "27e6c76f",
   "metadata": {},
   "outputs": [
    {
     "name": "stdout",
     "output_type": "stream",
     "text": [
      "150\n"
     ]
    }
   ],
   "source": [
    "# 클래스 선언\n",
    "class Car:\n",
    "    color = \"\"\n",
    "    speed = 0\n",
    "    \n",
    "    def upSpeed(self,value):\n",
    "        self.speed += value\n",
    "        if self.speed >= 150:\n",
    "            self.speed = 150\n",
    "        \n",
    "    def downSpeed(self,value):\n",
    "        self.speed -= value\n",
    "        \n",
    "myCar3 = Car()\n",
    "myCar3.color = \"노랑\"\n",
    "myCar3.speed = 0\n",
    "myCar3.upSpeed(200)\n",
    "print(myCar3.speed)"
   ]
  },
  {
   "cell_type": "code",
   "execution_count": 37,
   "id": "e248fc4d",
   "metadata": {},
   "outputs": [
    {
     "name": "stdout",
     "output_type": "stream",
     "text": [
      "자동차1의 색상은 이며, 현재 속도는 30km\n",
      "자동차2의 색상은 이며, 현재 속도는 60km\n"
     ]
    }
   ],
   "source": [
    "# 클래스 선언\n",
    "class Car:\n",
    "    color = \"\"\n",
    "    speed = 0\n",
    "    \n",
    "    def __init__self(self):\n",
    "        self.color = \"빨강\"\n",
    "        self.speed = 0\n",
    "    \n",
    "    def upSpeed(self,value):\n",
    "        self.speed += value\n",
    "        \n",
    "    def downSpeed(self,value):\n",
    "        self.speed -= value\n",
    "        \n",
    "\n",
    "myCar1 = Car()\n",
    "myCar2 = Car()\n",
    "\n",
    "\n",
    "\n",
    "myCar1.upSpeed(30)\n",
    "print(f\"자동차1의 색상은 {myCar1.color}이며, 현재 속도는 {myCar1.speed}km\")\n",
    "myCar2.upSpeed(60)\n",
    "print(f\"자동차2의 색상은 {myCar2.color}이며, 현재 속도는 {myCar2.speed}km\")\n"
   ]
  },
  {
   "cell_type": "code",
   "execution_count": 43,
   "id": "7a204ed3",
   "metadata": {},
   "outputs": [
    {
     "name": "stdout",
     "output_type": "stream",
     "text": [
      "자동차1의 색상은 빨강이며, 현재 속도는 30km\n",
      "자동차2의 색상은 파랑이며, 현재 속도는 60km\n"
     ]
    }
   ],
   "source": [
    "# 클래스 선언\n",
    "class Car:\n",
    "    color = \"\"\n",
    "    speed = 0\n",
    "    \n",
    "    def __init__(self,value1, value2):\n",
    "        self.color = value1\n",
    "        self.speed = value2\n",
    "    \n",
    "    def upSpeed(self,value2):\n",
    "        self.speed += value\n",
    "        \n",
    "    def downSpeed(self,value2):\n",
    "        self.speed -= value\n",
    "        \n",
    "\n",
    "myCar1 = Car(\"빨강\",30)\n",
    "myCar2 = Car(\"파랑\",60)\n",
    "\n",
    "\n",
    "\n",
    "print(f\"자동차1의 색상은 {myCar1.color}이며, 현재 속도는 {myCar1.speed}km\")\n",
    "\n",
    "print(f\"자동차2의 색상은 {myCar2.color}이며, 현재 속도는 {myCar2.speed}km\")"
   ]
  },
  {
   "cell_type": "code",
   "execution_count": 49,
   "id": "6e95593b",
   "metadata": {},
   "outputs": [
    {
     "name": "stdout",
     "output_type": "stream",
     "text": [
      "트럭 -->현재 속도(슈퍼 클래스):200\n",
      "승용차 -->현재 속도(서브 클래스):150\n"
     ]
    }
   ],
   "source": [
    "class Car:\n",
    "    speed = 0\n",
    "    def upSpeed(self, value):\n",
    "        self.speed += value\n",
    "        \n",
    "        print(\"현재 속도(슈퍼 클래스):%d\"%self.speed)\n",
    "        \n",
    "class Sedan(Car):\n",
    "    def upSpeed(self,value):\n",
    "        self.speed += value\n",
    "        if self.speed >= 150:\n",
    "            self.speed = 150\n",
    "            \n",
    "        print(\"현재 속도(서브 클래스):%d\" %self.speed)\n",
    "    \n",
    "class Truck(Car):\n",
    "    pass\n",
    "\n",
    "#  변수 선언 부분\n",
    "sedan1, truck1 = None, None\n",
    "\n",
    "# 메인 코드 부분\n",
    "truck1 = Truck()\n",
    "sedan1 = Sedan()\n",
    "print(\"트럭 -->\",end='')\n",
    "truck1.upSpeed(200)\n",
    "print(\"승용차 -->\",end='')\n",
    "sedan1.upSpeed(200)"
   ]
  },
  {
   "cell_type": "code",
   "execution_count": 51,
   "id": "9b1da2e0",
   "metadata": {},
   "outputs": [
    {
     "name": "stdout",
     "output_type": "stream",
     "text": [
      "트럭 -->현재 속도(슈퍼 클래스):200\n",
      "승용차 -->현재 속도(서브 클래스):150\n",
      "소나타 -->현재 속도(서브 클래스):150\n"
     ]
    }
   ],
   "source": [
    "class Car:\n",
    "    speed = 0\n",
    "    def upSpeed(self, value):\n",
    "        self.speed += value\n",
    "        \n",
    "        print(\"현재 속도(슈퍼 클래스):%d\"%self.speed)\n",
    "        \n",
    "class Sedan(Car):\n",
    "    def upSpeed(self,value):\n",
    "        self.speed += value\n",
    "        if self.speed >= 150:\n",
    "            self.speed = 150\n",
    "            \n",
    "        print(\"현재 속도(서브 클래스):%d\" %self.speed)\n",
    "        \n",
    "class Sonata(Sedan):\n",
    "    pass\n",
    "    \n",
    "class Truck(Car):\n",
    "    pass\n",
    "\n",
    "#  변수 선언 부분\n",
    "sedan1, truck1 = None, None\n",
    "\n",
    "# 메인 코드 부분\n",
    "truck1 = Truck()\n",
    "sedan1 = Sedan()\n",
    "print(\"트럭 -->\",end='')\n",
    "truck1.upSpeed(200)\n",
    "print(\"승용차 -->\",end='')\n",
    "sedan1.upSpeed(200)\n",
    "sonata1 = Sonata()\n",
    "print(\"소나타 -->\",end='')\n",
    "sonata1.upSpeed(200)"
   ]
  },
  {
   "cell_type": "code",
   "execution_count": null,
   "id": "fde8997b",
   "metadata": {},
   "outputs": [],
   "source": []
  }
 ],
 "metadata": {
  "kernelspec": {
   "display_name": "Python 3 (ipykernel)",
   "language": "python",
   "name": "python3"
  },
  "language_info": {
   "codemirror_mode": {
    "name": "ipython",
    "version": 3
   },
   "file_extension": ".py",
   "mimetype": "text/x-python",
   "name": "python",
   "nbconvert_exporter": "python",
   "pygments_lexer": "ipython3",
   "version": "3.10.9"
  }
 },
 "nbformat": 4,
 "nbformat_minor": 5
}
