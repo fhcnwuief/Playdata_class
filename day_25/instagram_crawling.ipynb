{
 "cells": [
  {
   "cell_type": "markdown",
   "id": "4cd2539e",
   "metadata": {},
   "source": [
    "### 1.0 네이버 카페 접근하기"
   ]
  },
  {
   "cell_type": "code",
   "execution_count": 6,
   "id": "d2df4b7f",
   "metadata": {},
   "outputs": [],
   "source": [
    "from selenium import webdriver\n",
    "from selenium.webdriver.chrome.service import Service\n",
    "from selenium.webdriver.common.by import By\n",
    "path = '../../driver/chromedriver_win32/chromedriver.exe'\n",
    "driver = webdriver.Chrome(service=Service(path))"
   ]
  },
  {
   "cell_type": "code",
   "execution_count": 7,
   "id": "86f2fe33",
   "metadata": {},
   "outputs": [],
   "source": [
    "driver.get('http:www.naver.com')"
   ]
  },
  {
   "cell_type": "code",
   "execution_count": 8,
   "id": "7bf016e4",
   "metadata": {},
   "outputs": [],
   "source": [
    "element = driver.find_element(By.XPATH, \"\"\"//*[@id=\"shortcutArea\"]/ul/li[2]/a/span[1]\"\"\")\n",
    "element.click()"
   ]
  },
  {
   "cell_type": "code",
   "execution_count": 9,
   "id": "a212e110",
   "metadata": {},
   "outputs": [],
   "source": [
    "driver.get('http:www.naver.com')\n",
    "element = driver.find_element(By.CLASS_NAME, 'type_cafe')\n",
    "element.click()"
   ]
  },
  {
   "cell_type": "code",
   "execution_count": 10,
   "id": "b877437f",
   "metadata": {},
   "outputs": [],
   "source": [
    "driver.close()"
   ]
  },
  {
   "cell_type": "markdown",
   "id": "b3abafe9",
   "metadata": {},
   "source": [
    "### 1.1 인스타그램 접속"
   ]
  },
  {
   "cell_type": "code",
   "execution_count": 11,
   "id": "7af1f122",
   "metadata": {},
   "outputs": [],
   "source": [
    "from selenium import webdriver\n",
    "from selenium.webdriver.chrome.service import Service\n",
    "from selenium.webdriver.common.by import By\n",
    "path = '../../driver/chromedriver_win32/chromedriver.exe'\n",
    "driver = webdriver.Chrome(service=Service(path))"
   ]
  },
  {
   "cell_type": "code",
   "execution_count": 12,
   "id": "3883e3c5",
   "metadata": {},
   "outputs": [],
   "source": [
    "import time\n",
    "# 인스타그램 접속하기\n",
    "driver.get('https://www.instagram.com')\n",
    "time.sleep(2)"
   ]
  },
  {
   "cell_type": "code",
   "execution_count": 13,
   "id": "99287d5a",
   "metadata": {},
   "outputs": [],
   "source": [
    "def insta_searching(word):\n",
    "    url = 'https://www.instagram.com/explore/tags/' + word\n",
    "    return url"
   ]
  },
  {
   "cell_type": "code",
   "execution_count": 14,
   "id": "644b45b2",
   "metadata": {},
   "outputs": [],
   "source": [
    "word = '울릉도'\n",
    "url = insta_searching(word)\n",
    "driver.get(url)"
   ]
  },
  {
   "cell_type": "code",
   "execution_count": 15,
   "id": "6b7dd656",
   "metadata": {},
   "outputs": [],
   "source": [
    "word = '제주도맛집'\n",
    "url = insta_searching(word)\n",
    "driver.get(url)"
   ]
  },
  {
   "cell_type": "markdown",
   "id": "9e5e8904",
   "metadata": {},
   "source": [
    "### 1.3 첫 번째 게시글 열기"
   ]
  },
  {
   "cell_type": "code",
   "execution_count": 19,
   "id": "c4e10380",
   "metadata": {},
   "outputs": [],
   "source": [
    "def select_first(driver):\n",
    "    first = driver.find_element(By.CSS_SELECTOR,\"div._aagw\")\n",
    "    first.click()\n",
    "    time.sleep(5)"
   ]
  },
  {
   "cell_type": "code",
   "execution_count": 20,
   "id": "50e32c50",
   "metadata": {},
   "outputs": [],
   "source": [
    "select_first(driver)"
   ]
  },
  {
   "cell_type": "markdown",
   "id": "ac96aa04",
   "metadata": {},
   "source": [
    "## 1.4 게시글 정보 가져오기"
   ]
  },
  {
   "cell_type": "code",
   "execution_count": 24,
   "id": "60d43d02",
   "metadata": {},
   "outputs": [
    {
     "data": {
      "text/plain": [
       "['.New arrival🌿[Mov 버튼 롱 원피스]낙낙한 사이즈와 시원한 소재감!입었을때 착용감이 좋고 여리여리해 보여요ㅎ55부터 66반까지모두 예쁘게 착용하실 수 있어요.체구가 작은 분들은 좀 크게 느껴질 수 있습니다^^아이보리 컬러 약간의 비침 있어요!Fabric.린넨30 레이온70Color.아이보리,그린,네이비Size.가슴50 소매(뒷넥에서)32 허리46 총길이112 암홀17.\\u200b',\n",
       " '2023-07-05',\n",
       " []]"
      ]
     },
     "execution_count": 24,
     "metadata": {},
     "output_type": "execute_result"
    }
   ],
   "source": [
    "# 게시글 정보 가져오기\n",
    "import re\n",
    "from bs4 import BeautifulSoup\n",
    "import unicodedata\n",
    "\n",
    "def get_content(driver):\n",
    "    # 현재 페이지의 내용 가져오기\n",
    "    html = driver.page_source\n",
    "    soup = BeautifulSoup(html,'html.parser')\n",
    "    \n",
    "    try:\n",
    "        content = soup.select('div._a9zs')[0].text\n",
    "        content = unicodedata.normalize('NFC',content)\n",
    "        \n",
    "    except:\n",
    "        content = ' '\n",
    "    \n",
    "    # 본문내용 그대로 가져오기(정규표현식)\n",
    "    # space, comma, # 아닌 것들..!\n",
    "    tags = re.findall(r'#[^\\s#,\\\\]+',content)\n",
    "    # 작성일자 가져오기\n",
    "    date = soup.select('time._aaqe')[0]['datetime'][:10]\n",
    "    # 수집한 정보 저장하기\n",
    "    data = [content,date,tags]\n",
    "    return data\n",
    "\n",
    "get_content(driver)"
   ]
  },
  {
   "cell_type": "markdown",
   "id": "e0c6360c",
   "metadata": {},
   "source": [
    "### 1.5 다음 게시글 가져오기"
   ]
  },
  {
   "cell_type": "code",
   "execution_count": 27,
   "id": "f007591a",
   "metadata": {},
   "outputs": [],
   "source": [
    "def move_next(driver):\n",
    "    right = driver.find_element(By.CSS_SELECTOR,'div._aaqg._aaqh')\n",
    "    right.click()\n",
    "    time.sleep(3)\n",
    "    \n",
    "move_next(driver)"
   ]
  },
  {
   "cell_type": "markdown",
   "id": "9ff096e4",
   "metadata": {},
   "source": [
    "### 1.6 정보 수집하기"
   ]
  },
  {
   "cell_type": "code",
   "execution_count": 31,
   "id": "2cd4776c",
   "metadata": {},
   "outputs": [
    {
     "name": "stdout",
     "output_type": "stream",
     "text": [
      "[['제주도 여행중 필수 먹킷인 흑돼지! 아직도 어디로 가실지 고민된다면 #공항그때그집 그냥 도착하자마자 여기로 가시면됩니다. 여행의 시작을 흑돼지로하면 더욱 성공적이겠죠. 공항근처 흑돼지 참 잘하는집이라 도착후 든든하게 배채워주고 여행하면 일석이조! 바다 근처에 있어서 뷰도 좋아요! 먹는내내 정신적+뱃속 힐링이 동시에 가능한곳이에요.오겹살로만 주문했는데 다음에 가면 목살도 꼭 먹어볼거에요. 고기를 주문하면 소시지랑 고사리, 새우까지 푸짐하게 준비해주십니다! 보기만해도 통통한게 안봐도 맛있는 비줠이쥬? 여기는 기본반찬까지 미쳐요,, 양념게장을 주시는데 진짜 존맛이에요. 김치찌개를 라면사리 넣어서 꼭 꼭 드시구요. 배가 아직 안찼다면 치즈 올라간 볶음밥까지 추천드립니다.▫️제주도 공항그때그집▫️제주 제주시 서해안로 352-1 ▫️11:00~22:00 수휴무 ▫️흑돼지 2인 60,000 #푸돌핀_제주#제주도여행 #제주도맛집 #제주맛집 #제주흑돼지맛집 #제주흑돼지 #제주도흑돼지 #제주도흑돼지맛집 #제주공항근처맛집 #제주공항맛집 #제주공항흑돼지 #노형맛집 #노형동맛집 #흑돼지맛집 #kpop #kfood #foodpics', '2023-07-05', ['#공항그때그집', '#푸돌핀_제주', '#제주도여행', '#제주도맛집', '#제주맛집', '#제주흑돼지맛집', '#제주흑돼지', '#제주도흑돼지', '#제주도흑돼지맛집', '#제주공항근처맛집', '#제주공항맛집', '#제주공항흑돼지', '#노형맛집', '#노형동맛집', '#흑돼지맛집', '#kpop', '#kfood', '#foodpics']], ['.New arrival🌿[Nori 지짐 썸머 원피스]시원한 여름 소재 지지미 원피스!루즈핏에 롱기장으로 부담없이데일리로 입기 좋은 원피스로 휘뚜루마뚜루꾸안꾸로 최고예요^^Fabric.코튼100Color.스트라이프,브라운,네이비Size.총기장 115 가슴60 .', '2023-07-05', []]]\n"
     ]
    }
   ],
   "source": [
    "word = '제주도맛집'\n",
    "url = insta_searching(word)\n",
    "driver.get(url)\n",
    "time.sleep(7)\n",
    "select_first(driver)\n",
    "\n",
    "results=[]\n",
    "target = 50\n",
    "for i in range(target):\n",
    "    try:\n",
    "        data = get_content(driver)\n",
    "        results.append(data)\n",
    "        move_next(driver)\n",
    "    except:\n",
    "        time.sleep(5)\n",
    "        move_next(driver)\n",
    "        \n",
    "print(results[:2])"
   ]
  },
  {
   "cell_type": "markdown",
   "id": "4c262d50",
   "metadata": {},
   "source": [
    "### 1.7 수집한 정보 저장하기"
   ]
  },
  {
   "cell_type": "code",
   "execution_count": 35,
   "id": "ce068ab9",
   "metadata": {},
   "outputs": [],
   "source": [
    "import pandas as pd\n",
    "results_df = pd.DataFrame(results)\n",
    "results_df.columns = ['content','data','tags']\n",
    "results_df.to_excel('../../output/jejudo_crawling.xlsx')"
   ]
  },
  {
   "cell_type": "code",
   "execution_count": 34,
   "id": "66501682",
   "metadata": {},
   "outputs": [],
   "source": [
    "driver.close()"
   ]
  },
  {
   "cell_type": "markdown",
   "id": "7aa53c22",
   "metadata": {},
   "source": [
    "## 1.8 여러 엑셀 파일의 중복을 제거한 후 통합 저장"
   ]
  },
  {
   "cell_type": "code",
   "execution_count": 36,
   "id": "ed22b53f",
   "metadata": {},
   "outputs": [
    {
     "name": "stderr",
     "output_type": "stream",
     "text": [
      "C:\\Users\\Playdata\\AppData\\Local\\Temp\\ipykernel_11308\\4228929486.py:9: FutureWarning: The frame.append method is deprecated and will be removed from pandas in a future version. Use pandas.concat instead.\n",
      "  jeju_insta_df = jeju_insta_df.append(temp)\n",
      "C:\\Users\\Playdata\\AppData\\Local\\Temp\\ipykernel_11308\\4228929486.py:9: FutureWarning: The frame.append method is deprecated and will be removed from pandas in a future version. Use pandas.concat instead.\n",
      "  jeju_insta_df = jeju_insta_df.append(temp)\n",
      "C:\\Users\\Playdata\\AppData\\Local\\Temp\\ipykernel_11308\\4228929486.py:9: FutureWarning: The frame.append method is deprecated and will be removed from pandas in a future version. Use pandas.concat instead.\n",
      "  jeju_insta_df = jeju_insta_df.append(temp)\n",
      "C:\\Users\\Playdata\\AppData\\Local\\Temp\\ipykernel_11308\\4228929486.py:9: FutureWarning: The frame.append method is deprecated and will be removed from pandas in a future version. Use pandas.concat instead.\n",
      "  jeju_insta_df = jeju_insta_df.append(temp)\n"
     ]
    }
   ],
   "source": [
    "jeju_insta_df = pd.DataFrame([])\n",
    "\n",
    "folder ='../../data/python_data/jeju/'\n",
    "f_list = ['1_crawling_jejudoGwanGwang.xlsx','1_crawling_jejudoMatJip.xlsx','1_crawling_jejuMatJip.xlsx','1_crawling_jejuYeoHang.xlsx']\n",
    "\n",
    "for fname in f_list:\n",
    "    fpath = folder + fname\n",
    "    temp = pd.read_excel(fpath)\n",
    "    jeju_insta_df = jeju_insta_df.append(temp)\n",
    "    \n",
    "jeju_insta_df.columns=['content','data','like','place','tags']"
   ]
  },
  {
   "cell_type": "code",
   "execution_count": 37,
   "id": "200b5413",
   "metadata": {},
   "outputs": [],
   "source": [
    "jeju_insta_df.drop_duplicates(subset=['content'],inplace=True)\n",
    "jeju_insta_df.to_excel('../../output/crawling_raw.xlsx',index=False)"
   ]
  },
  {
   "cell_type": "code",
   "execution_count": null,
   "id": "90a7b4a9",
   "metadata": {},
   "outputs": [],
   "source": []
  }
 ],
 "metadata": {
  "kernelspec": {
   "display_name": "Python 3 (ipykernel)",
   "language": "python",
   "name": "python3"
  },
  "language_info": {
   "codemirror_mode": {
    "name": "ipython",
    "version": 3
   },
   "file_extension": ".py",
   "mimetype": "text/x-python",
   "name": "python",
   "nbconvert_exporter": "python",
   "pygments_lexer": "ipython3",
   "version": "3.10.9"
  }
 },
 "nbformat": 4,
 "nbformat_minor": 5
}
