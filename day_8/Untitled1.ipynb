{
 "cells": [
  {
   "cell_type": "code",
   "execution_count": 3,
   "id": "44c38e31",
   "metadata": {},
   "outputs": [
    {
     "name": "stdout",
     "output_type": "stream",
     "text": [
      "25살 이새싹입니다\n",
      "22살 김새싹입니다\n"
     ]
    }
   ],
   "source": [
    "class Encore:\n",
    "    def __init__(self,age,name):\n",
    "        self.age = age\n",
    "        self.name = name\n",
    "        \n",
    "    def hello(self):\n",
    "        print(f\"{self.age}살 {self.name}입니다\")\n",
    "    \n",
    "lee = Encore(25, \"이새싹\")\n",
    "lee.hello()\n",
    "kim = Encore(22, \"김새싹\")\n",
    "kim.hello()"
   ]
  },
  {
   "cell_type": "code",
   "execution_count": 6,
   "id": "b877218a",
   "metadata": {},
   "outputs": [
    {
     "name": "stdout",
     "output_type": "stream",
     "text": [
      "25살 이새싹입니다\n",
      "학번 : 990011\n",
      "하루라도 문제를 풀지 않으면 손에 가시가 돋친다.\n",
      "비가 많이 내립니다.\n"
     ]
    }
   ],
   "source": [
    "class Encore:\n",
    "    def __init__(self,age,name):\n",
    "        self.age = age\n",
    "        self.name = name\n",
    "        \n",
    "    def hello(self):\n",
    "        print(f\"{self.age}살 {self.name}입니다\")\n",
    "        \n",
    "class Student(Encore):\n",
    "    def __init__(self,age,name,number):\n",
    "        self.age = age\n",
    "        self.name = name\n",
    "        self.number = number\n",
    "    def hello(self):\n",
    "        print(f\"{self.age}살 {self.name}입니다\")\n",
    "        print(f\"학번 : {self.number}\")\n",
    "    def encore_study(self):\n",
    "        print(\"하루라도 문제를 풀지 않으면 손에 가시가 돋친다.\")\n",
    "    def today(self):\n",
    "        print(\"비가 많이 내립니다.\")\n",
    "        \n",
    "lee = Student(25, \"이새싹\", 990011)\n",
    "lee.hello()\n",
    "lee.encore_study()\n",
    "lee.today()"
   ]
  },
  {
   "cell_type": "code",
   "execution_count": null,
   "id": "fd37d771",
   "metadata": {},
   "outputs": [],
   "source": []
  }
 ],
 "metadata": {
  "kernelspec": {
   "display_name": "Python 3 (ipykernel)",
   "language": "python",
   "name": "python3"
  },
  "language_info": {
   "codemirror_mode": {
    "name": "ipython",
    "version": 3
   },
   "file_extension": ".py",
   "mimetype": "text/x-python",
   "name": "python",
   "nbconvert_exporter": "python",
   "pygments_lexer": "ipython3",
   "version": "3.10.9"
  }
 },
 "nbformat": 4,
 "nbformat_minor": 5
}
